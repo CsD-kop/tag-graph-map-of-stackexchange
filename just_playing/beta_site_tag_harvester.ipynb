{
 "metadata": {
  "name": "beta_site_tag_harvester"
 }, 
 "nbformat": 2, 
 "worksheets": [
  {
   "cells": [
    {
     "cell_type": "code", 
     "collapsed": true, 
     "input": [
      "import requests", 
      "import simplejson as json", 
      "import time"
     ], 
     "language": "python", 
     "outputs": [], 
     "prompt_number": 13
    }, 
    {
     "cell_type": "code", 
     "collapsed": true, 
     "input": [
      "tagtext = \"http://api.stackexchange.com/2.1/questions?page=%d&pagesize=%d&order=asc&sort=creation&site=%s&filter=!nR5-WLw0-5\"", 
      "r = requests.get(tagtext % (1, 5, \"academia\"))"
     ], 
     "language": "python", 
     "outputs": [], 
     "prompt_number": 34
    }, 
    {
     "cell_type": "code", 
     "collapsed": false, 
     "input": [
      "json.loads(r.content)"
     ], 
     "language": "python", 
     "outputs": [
      {
       "output_type": "pyout", 
       "prompt_number": 35, 
       "text": [
        "{u&apos;has_more&apos;: True,", 
        " u&apos;items&apos;: [{u&apos;tags&apos;: [u&apos;grades&apos;]},", 
        "  {u&apos;tags&apos;: [u&apos;economics&apos;, u&apos;programming&apos;]},", 
        "  {u&apos;tags&apos;: [u&apos;research&apos;, u&apos;reproducible-research&apos;, u&apos;data&apos;]},", 
        "  {u&apos;tags&apos;: [u&apos;university&apos;, u&apos;funding&apos;, u&apos;fee&apos;]},", 
        "  {u&apos;tags&apos;: [u&apos;education&apos;]}],", 
        " u&apos;quota_max&apos;: 300,", 
        " u&apos;quota_remaining&apos;: 266}"
       ]
      }
     ], 
     "prompt_number": 35
    }, 
    {
     "cell_type": "code", 
     "collapsed": false, 
     "input": [
      "def harvest_tag_bundles(site = \"academia\", page_start=1, max_iter = 100, sleep_time = 0.1):", 
      "    tag_bundles = []", 
      "    tagtext = \"http://api.stackexchange.com/2.1/questions?page=%d&pagesize=100&order=asc&sort=creation&site=%s&filter=!nR5-WLw0-5\"", 
      "    # I'm aware that above is a quick, lame approach", 
      "    for i in xrange(page_start, page_start + max_iter):", 
      "        try:", 
      "            r = requests.get(tagtext % (i, site))", 
      "            data = json.loads(r.content)", 
      "            tag_bundles += map(lambda x: x['tags'], data['items'])", 
      "            if not data['has_more']:", 
      "                print \"Page %d was the last. Done!\\tQuota remaining: %d\" % (i, data['quota_remaining'])", 
      "                break   ", 
      "        except:", 
      "            print \"Something bad happened at %d page!\\tQuota remaining: %d\" % (i, data['quota_remaining']) ", 
      "            break", 
      "        time.sleep(sleep_time)", 
      "    return tag_bundles"
     ], 
     "language": "python", 
     "outputs": [], 
     "prompt_number": 31
    }, 
    {
     "cell_type": "code", 
     "collapsed": false, 
     "input": [
      "academia_tag_bundles = harvest_tag_bundles()"
     ], 
     "language": "python", 
     "outputs": [
      {
       "output_type": "stream", 
       "stream": "stdout", 
       "text": [
        "Page 11 was last. Done!\tQuota remaining: 267"
       ]
      }
     ], 
     "prompt_number": 32
    }, 
    {
     "cell_type": "code", 
     "collapsed": false, 
     "input": [
      "len(academia_tag_bundles)"
     ], 
     "language": "python", 
     "outputs": [
      {
       "output_type": "pyout", 
       "prompt_number": 33, 
       "text": [
        "1051"
       ]
      }
     ], 
     "prompt_number": 33
    }, 
    {
     "cell_type": "code", 
     "collapsed": true, 
     "input": [
      "# looks legit"
     ], 
     "language": "python", 
     "outputs": [], 
     "prompt_number": "&nbsp;"
    }, 
    {
     "cell_type": "code", 
     "collapsed": true, 
     "input": [
      "with open(\"academia_se_tag_bundles_20121101.json\",\"w\") as f:", 
      "    json.dump(academia_tag_bundles, f)"
     ], 
     "language": "python", 
     "outputs": [], 
     "prompt_number": 36
    }, 
    {
     "cell_type": "code", 
     "collapsed": true, 
     "input": [], 
     "language": "python", 
     "outputs": [], 
     "prompt_number": "&nbsp;"
    }
   ]
  }
 ]
}