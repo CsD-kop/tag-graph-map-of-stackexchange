{
 "metadata": {
  "name": "beta_site_tag_harvester"
 }, 
 "nbformat": 2, 
 "worksheets": [
  {
   "cells": [
    {
     "cell_type": "code", 
     "collapsed": true, 
     "input": [
      "import requests", 
      "import simplejson as json", 
      "import time"
     ], 
     "language": "python", 
     "outputs": [], 
     "prompt_number": 13
    }, 
    {
     "cell_type": "code", 
     "collapsed": true, 
     "input": [
      "tagtext = \"http://api.stackexchange.com/2.1/questions?page=%d&pagesize=%d&order=asc&sort=creation&site=%s&filter=!nR5-WLw0-5\"", 
      "r = requests.get(tagtext % (1, 5, \"academia\"))"
     ], 
     "language": "python", 
     "outputs": [], 
     "prompt_number": 34
    }, 
    {
     "cell_type": "code", 
     "collapsed": false, 
     "input": [
      "json.loads(r.content)"
     ], 
     "language": "python", 
     "outputs": [
      {
       "output_type": "pyout", 
       "prompt_number": 35, 
       "text": [
        "{u&apos;has_more&apos;: True,", 
        " u&apos;items&apos;: [{u&apos;tags&apos;: [u&apos;grades&apos;]},", 
        "  {u&apos;tags&apos;: [u&apos;economics&apos;, u&apos;programming&apos;]},", 
        "  {u&apos;tags&apos;: [u&apos;research&apos;, u&apos;reproducible-research&apos;, u&apos;data&apos;]},", 
        "  {u&apos;tags&apos;: [u&apos;university&apos;, u&apos;funding&apos;, u&apos;fee&apos;]},", 
        "  {u&apos;tags&apos;: [u&apos;education&apos;]}],", 
        " u&apos;quota_max&apos;: 300,", 
        " u&apos;quota_remaining&apos;: 266}"
       ]
      }
     ], 
     "prompt_number": 35
    }, 
    {
     "cell_type": "code", 
     "collapsed": false, 
     "input": [
      "def harvest_tag_bundles(site = \"academia\", page_start=1, max_iter = 100, sleep_time = 0.1):", 
      "    tag_bundles = []", 
      "    tagtext = \"http://api.stackexchange.com/2.1/questions?page=%d&pagesize=100&order=asc&sort=creation&site=%s&filter=!nR5-WLw0-5\"", 
      "    # I'm aware that above is a quick, lame approach", 
      "    for i in xrange(page_start, page_start + max_iter):", 
      "        try:", 
      "            r = requests.get(tagtext % (i, site))", 
      "            data = json.loads(r.content)", 
      "            tag_bundles += map(lambda x: x['tags'], data['items'])", 
      "            if not data['has_more']:", 
      "                print \"Page %d was the last. Done!\\tQuota remaining: %d\" % (i, data['quota_remaining'])", 
      "                break   ", 
      "        except:", 
      "            print \"Something bad happened at %d page!\\tQuota remaining: %d\" % (i, data['quota_remaining']) ", 
      "            break", 
      "        time.sleep(sleep_time)", 
      "    return tag_bundles"
     ], 
     "language": "python", 
     "outputs": [], 
     "prompt_number": 31
    }, 
    {
     "cell_type": "code", 
     "collapsed": false, 
     "input": [
      "academia_tag_bundles = harvest_tag_bundles()"
     ], 
     "language": "python", 
     "outputs": [
      {
       "output_type": "stream", 
       "stream": "stdout", 
       "text": [
        "Page 11 was last. Done!\tQuota remaining: 267"
       ]
      }
     ], 
     "prompt_number": 32
    }, 
    {
     "cell_type": "code", 
     "collapsed": false, 
     "input": [
      "len(academia_tag_bundles)"
     ], 
     "language": "python", 
     "outputs": [
      {
       "output_type": "pyout", 
       "prompt_number": 33, 
       "text": [
        "1051"
       ]
      }
     ], 
     "prompt_number": 33
    }, 
    {
     "cell_type": "code", 
     "collapsed": true, 
     "input": [
      "# looks legit"
     ], 
     "language": "python", 
     "outputs": [], 
     "prompt_number": "&nbsp;"
    }, 
    {
     "cell_type": "code", 
     "collapsed": true, 
     "input": [
      "with open(\"academia_se_tag_bundles_20121101.json\",\"w\") as f:", 
      "    json.dump(academia_tag_bundles, f)"
     ], 
     "language": "python", 
     "outputs": [], 
     "prompt_number": 36
    }, 
    {
     "cell_type": "code", 
     "collapsed": false, 
     "input": [
      "def harvest_and_save(site):", 
      "    t0 = time.time()", 
      "    \"\"\"Only for beta or other small SE sites!", 
      "       Work only on 20121101 :)\"\"\"", 
      "    tag_bundles = harvest_tag_bundles(site)", 
      "    with open(site + \"_se_tag_bundles_20121101.json\",\"w\") as f:", 
      "        json.dump(tag_bundles, f)", 
      "    t1 = time.time()", 
      "    print \"It took %.2fs.\" % (t1-t0)"
     ], 
     "language": "python", 
     "outputs": [], 
     "prompt_number": 40
    }, 
    {
     "cell_type": "code", 
     "collapsed": false, 
     "input": [
      "harvest_and_save(\"biology\")"
     ], 
     "language": "python", 
     "outputs": [
      {
       "output_type": "stream", 
       "stream": "stdout", 
       "text": [
        "Page 15 was last. Done!\tQuota remaining: 251", 
        "It took 0.11s."
       ]
      }
     ], 
     "prompt_number": 39
    }, 
    {
     "cell_type": "code", 
     "collapsed": false, 
     "input": [
      "harvest_and_save(\"cogsci\")"
     ], 
     "language": "python", 
     "outputs": [
      {
       "output_type": "stream", 
       "stream": "stdout", 
       "text": [
        "Page 6 was last. Done!\tQuota remaining: 245", 
        "It took 7.22s."
       ]
      }
     ], 
     "prompt_number": 41
    }, 
    {
     "cell_type": "code", 
     "collapsed": true, 
     "input": [
      "def harvest_sites(page_start=1, max_iter = 100, sleep_time = 0.1):", 
      "    sites = []", 
      "    tagtext = \"http://api.stackexchange.com/2.1/sites?page=%d&pagesize=100&order=asc&sort=creation\"", 
      "    # I'm aware that above is a quick, lame approach", 
      "    for i in xrange(page_start, page_start + max_iter):", 
      "        try:", 
      "            r = requests.get(tagtext % (i))", 
      "            data = json.loads(r.content)", 
      "            sites += data['items']", 
      "            if not data['has_more']:", 
      "                print \"Page %d was the last. Done!\\tQuota remaining: %d\" % (i, data['quota_remaining'])", 
      "                break   ", 
      "        except:", 
      "            print \"Something bad happened at %d page!\\tQuota remaining: %d\" % (i, data['quota_remaining']) ", 
      "            break", 
      "        time.sleep(sleep_time)", 
      "    return sites", 
      "#yeah, it's easy to make it more generic"
     ], 
     "language": "python", 
     "outputs": [], 
     "prompt_number": 45
    }, 
    {
     "cell_type": "code", 
     "collapsed": false, 
     "input": [
      "sites = harvest_sites()"
     ], 
     "language": "python", 
     "outputs": [
      {
       "output_type": "stream", 
       "stream": "stdout", 
       "text": [
        "Page 2 was the last. Done!\tQuota remaining: 241"
       ]
      }
     ], 
     "prompt_number": 46
    }, 
    {
     "cell_type": "code", 
     "collapsed": false, 
     "input": [
      "with open(\"se_all_sites_20121101.json\",\"w\") as f:", 
      "    json.dump(sites, f)"
     ], 
     "language": "python", 
     "outputs": [], 
     "prompt_number": 48
    }, 
    {
     "cell_type": "code", 
     "collapsed": false, 
     "input": [
      "names_beta = [x['api_site_parameter'] for x in sites if x['site_state'] == 'open_beta']"
     ], 
     "language": "python", 
     "outputs": [], 
     "prompt_number": 56
    }, 
    {
     "cell_type": "code", 
     "collapsed": false, 
     "input": [
      "names_mature = [x['api_site_parameter'] for x in sites if x['site_state'] == 'normal']"
     ], 
     "language": "python", 
     "outputs": [], 
     "prompt_number": 59
    }, 
    {
     "cell_type": "code", 
     "collapsed": false, 
     "input": [
      "def se_api_greedly(command = \"\", page_start=1, max_iter = 100, sleep_time = 0.1, **kwargs):", 
      "    payload = {'pagesize':100, \"order\":\"asc\", \"sort\":\"creation\"}", 
      "    payload.update(kwargs)", 
      "    res = []", 
      "    base_url = \"http://api.stackexchange.com/2.1/\"", 
      "    t0 = time.time()", 
      "    for i in xrange(page_start, page_start + max_iter):", 
      "        try:", 
      "            payload.update({\"page\":i})", 
      "            r = requests.get(base_url + command, params = payload)", 
      "            data = json.loads(r.content)", 
      "            res += data['items']", 
      "            if not data['has_more']:", 
      "                print \"Page %d was the last. Done!\" % i", 
      "                break   ", 
      "        except:", 
      "            print \"Something bad happened at %d page!\" % i  ", 
      "            break", 
      "        time.sleep(sleep_time)", 
      "    t1 = time.time()", 
      "    print \"It took %.2fs.\\tQuota remaining: %d\" % ((t1-t0), data['quota_remaining'])", 
      "    return res"
     ], 
     "language": "python", 
     "outputs": [], 
     "prompt_number": "&nbsp;"
    }, 
    {
     "cell_type": "code", 
     "collapsed": false, 
     "input": [
      "academia_users = se_api_greedly(command = \"users\", site = \"academia\",", 
      "                                filter = \"0cXJvjal9HZHhnMae\")"
     ], 
     "language": "python", 
     "outputs": [
      {
       "output_type": "stream", 
       "stream": "stdout", 
       "text": [
        "Page 20 was the last. Done!", 
        "Quota remaining: 110"
       ]
      }
     ], 
     "prompt_number": 99
    }, 
    {
     "cell_type": "code", 
     "collapsed": false, 
     "input": [
      "len(academia_users)"
     ], 
     "language": "python", 
     "outputs": [
      {
       "output_type": "pyout", 
       "prompt_number": 100, 
       "text": [
        "1942"
       ]
      }
     ], 
     "prompt_number": 100
    }, 
    {
     "cell_type": "code", 
     "collapsed": false, 
     "input": [
      "academia_users[4]"
     ], 
     "language": "python", 
     "outputs": [
      {
       "output_type": "pyout", 
       "prompt_number": 105, 
       "text": [
        "{u&apos;accept_rate&apos;: 100,", 
        " u&apos;account_id&apos;: 29108,", 
        " u&apos;age&apos;: 35,", 
        " u&apos;badge_counts&apos;: {u&apos;bronze&apos;: 16, u&apos;gold&apos;: 0, u&apos;silver&apos;: 4},", 
        " u&apos;creation_date&apos;: 1329250928,", 
        " u&apos;location&apos;: u&apos;Bremen, Germany&apos;,", 
        " u&apos;question_count&apos;: 10,", 
        " u&apos;reputation&apos;: 1027,", 
        " u&apos;reputation_change_day&apos;: 0,", 
        " u&apos;reputation_change_month&apos;: 0,", 
        " u&apos;reputation_change_quarter&apos;: 60,", 
        " u&apos;reputation_change_week&apos;: 0,", 
        " u&apos;reputation_change_year&apos;: 1026,", 
        " u&apos;user_id&apos;: 5}"
       ]
      }
     ], 
     "prompt_number": 105
    }, 
    {
     "cell_type": "code", 
     "collapsed": false, 
     "input": [
      "names_beta"
     ], 
     "language": "python", 
     "outputs": [
      {
       "output_type": "pyout", 
       "prompt_number": 108, 
       "text": [
        "[u&apos;money&apos;,", 
        " u&apos;answers.onstartups&apos;,", 
        " u&apos;boardgames&apos;,", 
        " u&apos;homebrew&apos;,", 
        " u&apos;writers&apos;,", 
        " u&apos;avp&apos;,", 
        " u&apos;graphicdesign&apos;,", 
        " u&apos;codereview&apos;,", 
        " u&apos;codegolf&apos;,", 
        " u&apos;quant&apos;,", 
        " u&apos;pm&apos;,", 
        " u&apos;fitness&apos;,", 
        " u&apos;mechanics&apos;,", 
        " u&apos;parenting&apos;,", 
        " u&apos;music&apos;,", 
        " u&apos;sqa&apos;,", 
        " u&apos;german&apos;,", 
        " u&apos;japanese&apos;,", 
        " u&apos;philosophy&apos;,", 
        " u&apos;gardening&apos;,", 
        " u&apos;travel&apos;,", 
        " u&apos;productivity&apos;,", 
        " u&apos;crypto&apos;,", 
        " u&apos;dsp&apos;,", 
        " u&apos;french&apos;,", 
        " u&apos;christianity&apos;,", 
        " u&apos;bitcoin&apos;,", 
        " u&apos;linguistics&apos;,", 
        " u&apos;hermeneutics&apos;,", 
        " u&apos;history&apos;,", 
        " u&apos;bricks&apos;,", 
        " u&apos;spanish&apos;,", 
        " u&apos;scicomp&apos;,", 
        " u&apos;movies&apos;,", 
        " u&apos;chinese&apos;,", 
        " u&apos;biology&apos;,", 
        " u&apos;poker&apos;,", 
        " u&apos;cogsci&apos;,", 
        " u&apos;outdoors&apos;,", 
        " u&apos;smugmug&apos;,", 
        " u&apos;martialarts&apos;,", 
        " u&apos;sports&apos;,", 
        " u&apos;academia&apos;,", 
        " u&apos;cs&apos;,", 
        " u&apos;workplace&apos;,", 
        " u&apos;windowsphone&apos;,", 
        " u&apos;chemistry&apos;,", 
        " u&apos;chess&apos;,", 
        " u&apos;libraries&apos;,", 
        " u&apos;raspberrypi&apos;,", 
        " u&apos;russian&apos;,", 
        " u&apos;islam&apos;,", 
        " u&apos;salesforce&apos;,", 
        " u&apos;patents&apos;,", 
        " u&apos;genealogy&apos;]"
       ]
      }
     ], 
     "prompt_number": 108
    }, 
    {
     "cell_type": "code", 
     "collapsed": false, 
     "input": [
      "# I will run of coins...", 
      "user_beta_dict = {}", 
      "for name in names_beta:", 
      "    print \"Starting: %s...\" % name", 
      "    res = se_api_greedly(command = \"users\", site = name,", 
      "                                filter = \"0cXJvjal9HZHhnMae\")", 
      "    user_beta_dict.update({name:res})"
     ], 
     "language": "python", 
     "outputs": [
      {
       "output_type": "stream", 
       "stream": "stdout", 
       "text": [
        "Starting: money...", 
        "Page 59 was the last. Done!"
       ]
      }, 
      {
       "output_type": "stream", 
       "stream": "stdout", 
       "text": [
        "", 
        "It took 48.32s.\tQuota remaining: 51", 
        "Starting: answers.onstartups...", 
        "Something bad happened at 53 page!"
       ]
      }, 
      {
       "ename": "KeyError", 
       "evalue": "'quota_remaining'", 
       "output_type": "pyerr", 
       "traceback": [
        "<span class=\"ansired\">---------------------------------------------------------------------------</span>\n<span class=\"ansired\">KeyError</span>                                  Traceback (most recent call last)", 
        "<span class=\"ansigreen\">/Users/piotrmigdal/Dropbox/Projects/BigDiveMine/kaggle_so_vis/tag-graph-map-of-stackexchange/just_playing/&lt;ipython-input-109-79a1ea538abf&gt;</span> in <span class=\"ansicyan\">&lt;module&gt;</span><span class=\"ansiblue\">()</span>\n<span class=\"ansigreen\">      4</span>     <span class=\"ansigreen\">print</span> <span class=\"ansiblue\">&quot;Starting: %s...&quot;</span> <span class=\"ansiblue\">%</span> name<span class=\"ansiblue\"></span>\n<span class=\"ansigreen\">      5</span>     res = se_api_greedly(command = &quot;users&quot;, site = name,\n<span class=\"ansigreen\">----&gt; 6</span><span class=\"ansired\">                                 filter = &quot;0cXJvjal9HZHhnMae&quot;)\n</span><span class=\"ansigreen\">      7</span>     user_beta_dict<span class=\"ansiblue\">.</span>update<span class=\"ansiblue\">(</span><span class=\"ansiblue\">{</span>name<span class=\"ansiblue\">:</span>res<span class=\"ansiblue\">}</span><span class=\"ansiblue\">)</span><span class=\"ansiblue\"></span>\n", 
        "<span class=\"ansigreen\">/Users/piotrmigdal/Dropbox/Projects/BigDiveMine/kaggle_so_vis/tag-graph-map-of-stackexchange/just_playing/&lt;ipython-input-107-5e0c9bb8e12b&gt;</span> in <span class=\"ansicyan\">se_api_greedly</span><span class=\"ansiblue\">(command, page_start, max_iter, sleep_time, **kwargs)</span>\n<span class=\"ansigreen\">     19</span>         time<span class=\"ansiblue\">.</span>sleep<span class=\"ansiblue\">(</span>sleep_time<span class=\"ansiblue\">)</span><span class=\"ansiblue\"></span>\n<span class=\"ansigreen\">     20</span>     t1 <span class=\"ansiblue\">=</span> time<span class=\"ansiblue\">.</span>time<span class=\"ansiblue\">(</span><span class=\"ansiblue\">)</span><span class=\"ansiblue\"></span>\n<span class=\"ansigreen\">---&gt; 21</span><span class=\"ansired\">     </span><span class=\"ansigreen\">print</span> <span class=\"ansiblue\">&quot;It took %.2fs.\\tQuota remaining: %d&quot;</span> <span class=\"ansiblue\">%</span> <span class=\"ansiblue\">(</span><span class=\"ansiblue\">(</span>t1<span class=\"ansiblue\">-</span>t0<span class=\"ansiblue\">)</span><span class=\"ansiblue\">,</span> data<span class=\"ansiblue\">[</span><span class=\"ansiblue\">&apos;quota_remaining&apos;</span><span class=\"ansiblue\">]</span><span class=\"ansiblue\">)</span><span class=\"ansiblue\"></span>\n<span class=\"ansigreen\">     22</span>     <span class=\"ansigreen\">return</span> res<span class=\"ansiblue\"></span>\n", 
        "<span class=\"ansired\">KeyError</span>: &apos;quota_remaining&apos;"
       ]
      }, 
      {
       "output_type": "stream", 
       "stream": "stdout", 
       "text": [
        ""
       ]
      }
     ], 
     "prompt_number": 109
    }, 
    {
     "cell_type": "code", 
     "collapsed": false, 
     "input": [
      "r = requests.get(\"http://api.stackexchange.com/2.1/sites\")"
     ], 
     "language": "python", 
     "outputs": [], 
     "prompt_number": 111
    }, 
    {
     "cell_type": "code", 
     "collapsed": false, 
     "input": [
      "r.content"
     ], 
     "language": "python", 
     "outputs": [
      {
       "output_type": "pyout", 
       "prompt_number": 114, 
       "text": [
        "u&apos;{&quot;error_id&quot;:502,&quot;error_name&quot;:&quot;throttle_violation&quot;,&quot;error_message&quot;:&quot;too many requests from this IP, more requests available in 59196 seconds&quot;}&apos;"
       ]
      }
     ], 
     "prompt_number": 114
    }, 
    {
     "cell_type": "code", 
     "collapsed": true, 
     "input": [], 
     "language": "python", 
     "outputs": [], 
     "prompt_number": "&nbsp;"
    }
   ]
  }
 ]
}