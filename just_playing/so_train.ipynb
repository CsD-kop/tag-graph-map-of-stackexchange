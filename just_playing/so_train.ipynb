{
 "metadata": {
  "name": "so_train"
 }, 
 "nbformat": 2, 
 "worksheets": [
  {
   "cells": [
    {
     "cell_type": "code", 
     "collapsed": true, 
     "input": [
      "import csv", 
      "import json", 
      "import numpy as np", 
      "from time import time", 
      "import networkx as nx", 
      "import simplejson"
     ], 
     "language": "python", 
     "outputs": [], 
     "prompt_number": 1
    }, 
    {
     "cell_type": "code", 
     "collapsed": true, 
     "input": [
      "import matplotlib.pyplot as plt"
     ], 
     "language": "python", 
     "outputs": [], 
     "prompt_number": 2
    }, 
    {
     "cell_type": "code", 
     "collapsed": true, 
     "input": [
      "def take_sorted_tags(row):", 
      "    \"\"\"Returns non-empty tags and sorts\"\"\"", 
      "    return sorted(filter(lambda x: x != \"\", row[-7:-2]))", 
      "", 
      "def save_json(x, filename):", 
      "    \"\"\"Saves object to a given path; json required\"\"\"", 
      "    with open(filename,'w') as f:", 
      "        json.dump(x, f)", 
      "    f.close()", 
      "    ", 
      "", 
      "    ", 
      "def elapsed(proc, *args, **kwargs):", 
      "    \"\"\"Print time elapsed; requires \"from time import time\"\"\"", 
      "    t0 = time()", 
      "    res = proc(*args, **kwargs)", 
      "    print \"Time elapsed [s]:\", (time() - t0)", 
      "    return res", 
      "", 
      "def make_tag_counts(tag_lists_list):", 
      "    res = {}", 
      "    for tag_list in tag_lists_list:", 
      "        for tag in tag_list:", 
      "            try:", 
      "                res[tag] += 1", 
      "            except:", 
      "                res[tag] = 1", 
      "    return res", 
      "", 
      "def make_pair_counts(tag_lists_list, tag_dict):", 
      "    \"\"\"Makes counts of tag co-occurrences, if they are in a given dict.", 
      "       Each element needs to be sorted.", 
      "       x in dict  is much quicker that  x in list\"\"\"", 
      "    res = {}", 
      "    for tag_list in  tag_lists_list:", 
      "        tag_list_clean = filter(lambda x: x in tag_dict, tag_list)", 
      "        #adding sortig there would make it 50x slower", 
      "        for tag1 in tag_list_clean:", 
      "            for tag2 in tag_list_clean:", 
      "                if tag1 < tag2: #to avoid refferencing range(len(.)) and back; works", 
      "                    try:", 
      "                        res[(tag1, tag2)] += 1", 
      "                    except:", 
      "                        res[(tag1, tag2)] = 1", 
      "    return res  ", 
      "", 
      "def process_edges(pair_count_list, tag_count_dict, func, threshold=0., **kwargs):", 
      "    \"\"\"For list of edges, with elemens:", 
      "    [(tag1, tag2), pair_count]", 
      "    and dictionary of tag counts, with elements:", 
      "    tag: tag_count", 
      "    return a list of", 
      "    [(tag1, tag2), tag1_count, tag2_coutn, pair_count,", 
      "     func(tag1_count, tag2_coutn, pair_count)]", 
      "    and filters and sorts with respect to the last value\"\"\"", 
      "    good_edge_list = []", 
      "    for k, v in pair_count_list:", 
      "        tag1c = tag_count_dict[k[0]]", 
      "        tag2c = tag_count_dict[k[1]]", 
      "        val = func(tag1c, tag2c, v, **kwargs)", 
      "        if val > threshold:", 
      "            good_edge_list.append((k, tag1c, tag2c, v, val))", 
      "    good_edge_list.sort(key = lambda x: -x[4])", 
      "    return good_edge_list", 
      "    ", 
      "def prob_of_other_tag_sym(na, nb, nab):", 
      "    \"\"\"Max of probabilities:", 
      "    that for X tag there is also Y tag, and the converse\"\"\"", 
      "    return max(float(nab)/na, float(nab)/nb)", 
      "", 
      "def cooccurrence(na, nb, nab, trial_size = 1.):", 
      "    return float(nab * trial_size) / float(na * nb)", 
      "", 
      "def export_graph(edge_list, path = \"output.gexf\", node_dict = []):", 
      "    G = nx.Graph()", 
      "    for tag, count in node_dict.items():", 
      "        G.add_node(tag, weight=count)", 
      "    for pair in edge_list:", 
      "        G.add_edge(*pair[0], weigth=pair[-1])", 
      "    nx.write_gexf(G, path)", 
      "    print \"Saved!\\nNodes: %d,\\t Edges: %d\" % (nx.number_of_nodes(G), nx.number_of_edges(G))", 
      "    ", 
      "def filter_edgelist(edge_list, tag):", 
      "    return filter(lambda x: x[0][0] == tag or x[0][1] == tag, edge_list)"
     ], 
     "language": "python", 
     "outputs": [], 
     "prompt_number": 3
    }, 
    {
     "cell_type": "code", 
     "collapsed": false, 
     "input": [
      "t0 = time()", 
      "with open(\"/Users/piotrmigdal/Data/kaggle_stackoverflow/train.csv\",\"r\") as f:", 
      "    timestamps = [row[1] for row in csv.reader(f)]", 
      "    f.close()", 
      "t1 = time()", 
      "print (t1 - t0)"
     ], 
     "language": "python", 
     "outputs": [
      {
       "output_type": "stream", 
       "stream": "stdout", 
       "text": [
        "82.3738000393"
       ]
      }
     ], 
     "prompt_number": 5
    }, 
    {
     "cell_type": "code", 
     "collapsed": false, 
     "input": [
      "len(timestamps)"
     ], 
     "language": "python", 
     "outputs": [
      {
       "output_type": "pyout", 
       "prompt_number": 9, 
       "text": [
        "3370529"
       ]
      }
     ], 
     "prompt_number": 9
    }, 
    {
     "cell_type": "code", 
     "collapsed": false, 
     "input": [
      "timestamps[1], timestamps[-1]"
     ], 
     "language": "python", 
     "outputs": [
      {
       "output_type": "pyout", 
       "prompt_number": 17, 
       "text": [
        "(&apos;07/31/2008 21:42:52&apos;, &apos;07/30/2012 23:23:44&apos;)"
       ]
      }
     ], 
     "prompt_number": 17
    }, 
    {
     "cell_type": "code", 
     "collapsed": true, 
     "input": [
      "with open(\"timestamps.json\",'w') as f:", 
      "    json.dump(timestamps[1:], f)", 
      "    f.close()"
     ], 
     "language": "python", 
     "outputs": [], 
     "prompt_number": 10
    }, 
    {
     "cell_type": "code", 
     "collapsed": false, 
     "input": [
      "t0 = time()", 
      "with open(\"/Users/piotrmigdal/Data/kaggle_stackoverflow/train.csv\",\"r\") as f:", 
      "    openclosed = [row[-1] for row in csv.reader(f)]", 
      "    f.close()", 
      "t1 = time()", 
      "print (t1 - t0)"
     ], 
     "language": "python", 
     "outputs": [
      {
       "output_type": "stream", 
       "stream": "stdout", 
       "text": [
        "87.2005610466"
       ]
      }
     ], 
     "prompt_number": 55
    }, 
    {
     "cell_type": "code", 
     "collapsed": false, 
     "input": [
      "tags_per_post[1]"
     ], 
     "language": "python", 
     "outputs": [
      {
       "ename": "NameError", 
       "evalue": "name 'tags_per_post' is not defined", 
       "output_type": "pyerr", 
       "traceback": [
        "<span class=\"ansired\">---------------------------------------------------------------------------</span>\n<span class=\"ansired\">NameError</span>                                 Traceback (most recent call last)", 
        "<span class=\"ansigreen\">/Users/piotrmigdal/Dropbox/Projects/BigDiveMine/kaggle_so_vis/&lt;ipython-input-6-4004e911a285&gt;</span> in <span class=\"ansicyan\">&lt;module&gt;</span><span class=\"ansiblue\">()</span>\n<span class=\"ansigreen\">----&gt; 1</span><span class=\"ansired\"> </span>tags_per_post<span class=\"ansiblue\">[</span><span class=\"ansicyan\">1</span><span class=\"ansiblue\">]</span><span class=\"ansiblue\"></span>\n", 
        "<span class=\"ansired\">NameError</span>: name &apos;tags_per_post&apos; is not defined"
       ]
      }
     ], 
     "prompt_number": 6
    }, 
    {
     "cell_type": "code", 
     "collapsed": false, 
     "input": [
      "elapsed(save_json, tags_per_post[1:], \"tags_per_post.json\")"
     ], 
     "language": "python", 
     "outputs": [
      {
       "output_type": "stream", 
       "stream": "stdout", 
       "text": [
        "Time elapsed [s]: 97.5298790932"
       ]
      }
     ], 
     "prompt_number": 41
    }, 
    {
     "cell_type": "code", 
     "collapsed": false, 
     "input": [
      "len(tags_per_post)"
     ], 
     "language": "python", 
     "outputs": [
      {
       "output_type": "pyout", 
       "prompt_number": 32, 
       "text": [
        "3370529"
       ]
      }
     ], 
     "prompt_number": 32
    }, 
    {
     "cell_type": "code", 
     "collapsed": false, 
     "input": [
      "tags_per_post[234]"
     ], 
     "language": "python", 
     "outputs": [
      {
       "output_type": "pyout", 
       "prompt_number": 42, 
       "text": [
        "[&apos;database&apos;, &apos;postgresql&apos;, &apos;sql&apos;]"
       ]
      }
     ], 
     "prompt_number": 42
    }, 
    {
     "cell_type": "code", 
     "collapsed": true, 
     "input": [
      "tags_per_post_loaded = json.load(open(\"tags_per_post.json\",\"r\"))"
     ], 
     "language": "python", 
     "outputs": [], 
     "prompt_number": 3
    }, 
    {
     "cell_type": "code", 
     "collapsed": true, 
     "input": [
      "# ^ it took a long time, maybe longer than reading of the original file"
     ], 
     "language": "python", 
     "outputs": [], 
     "prompt_number": "&nbsp;"
    }, 
    {
     "cell_type": "code", 
     "collapsed": false, 
     "input": [
      "t0 = time()", 
      "tags_per_post_loaded = simplejson.load(open(\"tags_per_post.json\",\"r\"))", 
      "t1 = time()", 
      "print (t1 - t0)"
     ], 
     "language": "python", 
     "outputs": [
      {
       "output_type": "stream", 
       "stream": "stdout", 
       "text": [
        "17.7399690151"
       ]
      }
     ], 
     "prompt_number": 4
    }, 
    {
     "cell_type": "code", 
     "collapsed": true, 
     "input": [
      "#simplejson is not bad! 49s for load is ok"
     ], 
     "language": "python", 
     "outputs": [], 
     "prompt_number": "&nbsp;"
    }, 
    {
     "cell_type": "code", 
     "collapsed": false, 
     "input": [
      "tag_counts = elapsed(make_tag_counts, tags_per_post[1:])"
     ], 
     "language": "python", 
     "outputs": [
      {
       "output_type": "stream", 
       "stream": "stdout", 
       "text": [
        "Time elapsed [s]: 4.72979593277"
       ]
      }
     ], 
     "prompt_number": 46
    }, 
    {
     "cell_type": "code", 
     "collapsed": false, 
     "input": [
      "tag_counts = elapsed(make_tag_counts, tags_per_post_loaded)"
     ], 
     "language": "python", 
     "outputs": [
      {
       "output_type": "stream", 
       "stream": "stdout", 
       "text": [
        "Time elapsed [s]: 4.93665385246"
       ]
      }
     ], 
     "prompt_number": 5
    }, 
    {
     "cell_type": "code", 
     "collapsed": false, 
     "input": [
      "tag_counts[\"c++\"]"
     ], 
     "language": "python", 
     "outputs": [
      {
       "output_type": "pyout", 
       "prompt_number": 6, 
       "text": [
        "129928"
       ]
      }
     ], 
     "prompt_number": 6
    }, 
    {
     "cell_type": "code", 
     "collapsed": false, 
     "input": [
      "len(tag_counts)"
     ], 
     "language": "python", 
     "outputs": [
      {
       "output_type": "pyout", 
       "prompt_number": 6, 
       "text": [
        "43244"
       ]
      }
     ], 
     "prompt_number": 6
    }, 
    {
     "cell_type": "code", 
     "collapsed": true, 
     "input": [
      "tag_count_list = tag_counts.items()"
     ], 
     "language": "python", 
     "outputs": [], 
     "prompt_number": 6
    }, 
    {
     "cell_type": "code", 
     "collapsed": true, 
     "input": [
      "tag_count_list.sort(key = lambda x: -x[1])"
     ], 
     "language": "python", 
     "outputs": [], 
     "prompt_number": 7
    }, 
    {
     "cell_type": "code", 
     "collapsed": false, 
     "input": [
      "tag_count_list[1024:1080]"
     ], 
     "language": "python", 
     "outputs": [
      {
       "output_type": "pyout", 
       "prompt_number": 9, 
       "text": [
        "[(&apos;amazon&apos;, 1176),", 
        " (&apos;hardware&apos;, 1173),", 
        " (&apos;uitableviewcontroller&apos;, 1173),", 
        " (&apos;httpclient&apos;, 1172),", 
        " (&apos;transparency&apos;, 1166),", 
        " (&apos;http-post&apos;, 1165),", 
        " (&apos;uinavigationbar&apos;, 1164),", 
        " (&apos;spinner&apos;, 1161),", 
        " (&apos;fortran&apos;, 1160),", 
        " (&apos;windows-8&apos;, 1159),", 
        " (&apos;url-routing&apos;, 1158),", 
        " (&apos;base64&apos;, 1156),", 
        " (&apos;file-download&apos;, 1155),", 
        " (&apos;storage&apos;, 1153),", 
        " (&apos;shared-libraries&apos;, 1153),", 
        " (&apos;folder&apos;, 1149),", 
        " (&apos;emulator&apos;, 1147),", 
        " (&apos;android-mapview&apos;, 1145),", 
        " (&apos;customization&apos;, 1145),", 
        " (&apos;uiimagepickercontroller&apos;, 1144),", 
        " (&apos;context&apos;, 1142),", 
        " (&apos;query-string&apos;, 1142),", 
        " (&apos;socket.io&apos;, 1140),", 
        " (&apos;wordpress-theming&apos;, 1140),", 
        " (&apos;links&apos;, 1137),", 
        " (&apos;element&apos;, 1136),", 
        " (&apos;driver&apos;, 1134),", 
        " (&apos;simplexml&apos;, 1133),", 
        " (&apos;search-engine&apos;, 1132),", 
        " (&apos;plone&apos;, 1131),", 
        " (&apos;nsurlconnection&apos;, 1130),", 
        " (&apos;automated-tests&apos;, 1128),", 
        " (&apos;pinvoke&apos;, 1127),", 
        " (&apos;smarty&apos;, 1126),", 
        " (&apos;extension-methods&apos;, 1123),", 
        " (&apos;facebook-javascript-sdk&apos;, 1120),", 
        " (&apos;protocols&apos;, 1117),", 
        " (&apos;html-lists&apos;, 1117),", 
        " (&apos;osx-snow-leopard&apos;, 1116),", 
        " (&apos;push&apos;, 1115),", 
        " (&apos;nsdictionary&apos;, 1111),", 
        " (&apos;try-catch&apos;, 1110),", 
        " (&apos;http-status-code-404&apos;, 1110),", 
        " (&apos;translation&apos;, 1110),", 
        " (&apos;gdi+&apos;, 1107),", 
        " (&apos;ascii&apos;, 1106),", 
        " (&apos;elisp&apos;, 1106),", 
        " (&apos;gae-datastore&apos;, 1105),", 
        " (&apos;selector&apos;, 1105),", 
        " (&apos;structure&apos;, 1103),", 
        " (&apos;yui&apos;, 1100),", 
        " (&apos;asp.net-mvc-routing&apos;, 1100),", 
        " (&apos;webbrowser-control&apos;, 1099),", 
        " (&apos;listener&apos;, 1099),", 
        " (&apos;decimal&apos;, 1097),", 
        " (&apos;liferay&apos;, 1096)]"
       ]
      }
     ], 
     "prompt_number": 9
    }, 
    {
     "cell_type": "code", 
     "collapsed": true, 
     "input": [
      "tags256dict  = dict(tag_count_list[:256])"
     ], 
     "language": "python", 
     "outputs": [], 
     "prompt_number": 8
    }, 
    {
     "cell_type": "code", 
     "collapsed": false, 
     "input": [
      "pair256dict = elapsed(make_pair_counts, tags_per_post_loaded, tags256dict)"
     ], 
     "language": "python", 
     "outputs": [
      {
       "output_type": "stream", 
       "stream": "stdout", 
       "text": [
        "Time elapsed [s]: 13.8036849499"
       ]
      }
     ], 
     "prompt_number": 11
    }, 
    {
     "cell_type": "code", 
     "collapsed": false, 
     "input": [
      "tags1024dict  = dict(tag_count_list[:1024])", 
      "# pair1024dict = elapsed(make_pair_counts, tags_per_post_loaded, tags1024dict)", 
      "pair1024list = elapsed(make_pair_counts, tags_per_post_loaded, tags1024dict).items()"
     ], 
     "language": "python", 
     "outputs": [
      {
       "output_type": "stream", 
       "stream": "stdout", 
       "text": [
        "Time elapsed [s]: 21.6168289185"
       ]
      }
     ], 
     "prompt_number": 9
    }, 
    {
     "cell_type": "code", 
     "collapsed": false, 
     "input": [
      "tags2048dict  = dict(tag_count_list[:2048])", 
      "# pair2048dict = elapsed(make_pair_counts, tags_per_post_loaded, tags2048dict)", 
      "pair2048list = elapsed(make_pair_counts, tags_per_post_loaded, tags2048dict).items()"
     ], 
     "language": "python", 
     "outputs": [
      {
       "output_type": "stream", 
       "stream": "stdout", 
       "text": [
        "Time elapsed [s]: 27.9291357994"
       ]
      }
     ], 
     "prompt_number": 10
    }, 
    {
     "cell_type": "code", 
     "collapsed": false, 
     "input": [
      "len(pair256dict)"
     ], 
     "language": "python", 
     "outputs": [
      {
       "output_type": "pyout", 
       "prompt_number": 14, 
       "text": [
        "26120"
       ]
      }
     ], 
     "prompt_number": 14
    }, 
    {
     "cell_type": "code", 
     "collapsed": false, 
     "input": [
      "len(pair256dict)/float(len(tags256dict)**2)"
     ], 
     "language": "python", 
     "outputs": [
      {
       "output_type": "pyout", 
       "prompt_number": 16, 
       "text": [
        "0.3985595703125"
       ]
      }
     ], 
     "prompt_number": 16
    }, 
    {
     "cell_type": "code", 
     "collapsed": true, 
     "input": [
      "pair256list = pair256dict.items()"
     ], 
     "language": "python", 
     "outputs": [], 
     "prompt_number": 17
    }, 
    {
     "cell_type": "code", 
     "collapsed": true, 
     "input": [], 
     "language": "python", 
     "outputs": [], 
     "prompt_number": "&nbsp;"
    }, 
    {
     "cell_type": "code", 
     "collapsed": true, 
     "input": [
      "# high density, for sure we need to cut it a lot"
     ], 
     "language": "python", 
     "outputs": [], 
     "prompt_number": "&nbsp;"
    }, 
    {
     "cell_type": "code", 
     "collapsed": false, 
     "input": [
      "edges256list = elapsed(process_edges, pair256list, tags265dict, prob_of_other_tag_sym,", 
      "                       threshold=0.05)"
     ], 
     "language": "python", 
     "outputs": [
      {
       "output_type": "stream", 
       "stream": "stdout", 
       "text": [
        "Time elapsed [s]: 0.098788022995"
       ]
      }
     ], 
     "prompt_number": 41
    }, 
    {
     "cell_type": "code", 
     "collapsed": false, 
     "input": [
      "len(edges256list)"
     ], 
     "language": "python", 
     "outputs": [
      {
       "output_type": "pyout", 
       "prompt_number": 42, 
       "text": [
        "1113"
       ]
      }
     ], 
     "prompt_number": 42
    }, 
    {
     "cell_type": "code", 
     "collapsed": false, 
     "input": [
      "edges256list[:10]"
     ], 
     "language": "python", 
     "outputs": [
      {
       "output_type": "pyout", 
       "prompt_number": 31, 
       "text": [
        "[((u&apos;android&apos;, u&apos;android-layout&apos;), 203962, 8815, 8035, 0.9115144639818491),", 
        " ((u&apos;java&apos;, u&apos;swing&apos;), 256229, 11276, 10104, 0.89606243348705217),", 
        " ((u&apos;jquery&apos;, u&apos;jquery-plugins&apos;), 198573, 6606, 5343, 0.80881017257039056),", 
        " ((u&apos;boost&apos;, u&apos;c++&apos;), 6290, 129928, 4925, 0.78298887122416538),", 
        " ((u&apos;javascript&apos;, u&apos;javascript-events&apos;),", 
        "  223514,", 
        "  5834,", 
        "  4343,", 
        "  0.74442920809050395),", 
        " ((u&apos;jquery&apos;, u&apos;jquery-ui&apos;), 198573, 14033, 10105, 0.7200883631440177),", 
        " ((u&apos;activerecord&apos;, u&apos;ruby-on-rails&apos;), 7385, 79411, 5262, 0.71252538930264053),", 
        " ((u&apos;c#&apos;, u&apos;winforms&apos;), 310857, 21274, 14780, 0.69474475886058096),", 
        " ((u&apos;curl&apos;, u&apos;php&apos;), 5445, 242329, 3623, 0.66538108356290171),", 
        " ((u&apos;cocoa-touch&apos;, u&apos;iphone&apos;), 14177, 137155, 9114, 0.6428722578824857)]"
       ]
      }
     ], 
     "prompt_number": 31
    }, 
    {
     "cell_type": "code", 
     "collapsed": false, 
     "input": [
      "export_graph(edges256list, path = \"output256_sym_t05.gexf\", node_dict = tags265dict)"
     ], 
     "language": "python", 
     "outputs": [
      {
       "output_type": "stream", 
       "stream": "stdout", 
       "text": [
        "Saved!", 
        " Nodes: 256.000000,\t Edges: 1113.000000"
       ]
      }
     ], 
     "prompt_number": 55
    }, 
    {
     "cell_type": "code", 
     "collapsed": false, 
     "input": [
      "export_graph(edges256list, path = \"output256_sym_t05_nonsolo.gexf\", node_dict = {})"
     ], 
     "language": "python", 
     "outputs": [
      {
       "output_type": "stream", 
       "stream": "stdout", 
       "text": [
        "Saved!", 
        " Nodes: 251.000000,\t Edges: 1113.000000"
       ]
      }
     ], 
     "prompt_number": 56
    }, 
    {
     "cell_type": "code", 
     "collapsed": false, 
     "input": [
      "edges256list_t0 = elapsed(process_edges, pair256list, tags265dict, prob_of_other_tag_sym,", 
      "                       threshold=0.0)"
     ], 
     "language": "python", 
     "outputs": [
      {
       "output_type": "stream", 
       "stream": "stdout", 
       "text": [
        "Time elapsed [s]: 0.153326034546"
       ]
      }
     ], 
     "prompt_number": 57
    }, 
    {
     "cell_type": "code", 
     "collapsed": false, 
     "input": [
      "edges256list_t0[:5]"
     ], 
     "language": "python", 
     "outputs": [
      {
       "output_type": "pyout", 
       "prompt_number": 58, 
       "text": [
        "[((u&apos;android&apos;, u&apos;android-layout&apos;), 203962, 8815, 8035, 0.9115144639818491),", 
        " ((u&apos;java&apos;, u&apos;swing&apos;), 256229, 11276, 10104, 0.89606243348705217),", 
        " ((u&apos;jquery&apos;, u&apos;jquery-plugins&apos;), 198573, 6606, 5343, 0.80881017257039056),", 
        " ((u&apos;boost&apos;, u&apos;c++&apos;), 6290, 129928, 4925, 0.78298887122416538),", 
        " ((u&apos;javascript&apos;, u&apos;javascript-events&apos;),", 
        "  223514,", 
        "  5834,", 
        "  4343,", 
        "  0.74442920809050395)]"
       ]
      }
     ], 
     "prompt_number": 58
    }, 
    {
     "cell_type": "code", 
     "collapsed": false, 
     "input": [
      "filter(lambda x: x[0][0] == \"r\" or x[0][1] == \"r\", edges256list_t0)[:10]"
     ], 
     "language": "python", 
     "outputs": [
      {
       "output_type": "pyout", 
       "prompt_number": 61, 
       "text": [
        "[((u&apos;loops&apos;, u&apos;r&apos;), 6901, 14539, 224, 0.032459063903782059),", 
        " ((u&apos;graphics&apos;, u&apos;r&apos;), 5543, 14539, 143, 0.025798304167418365),", 
        " ((u&apos;data&apos;, u&apos;r&apos;), 6031, 14539, 140, 0.023213397446526281),", 
        " ((u&apos;function&apos;, u&apos;r&apos;), 11763, 14539, 187, 0.015897305109240839),", 
        " ((u&apos;list&apos;, u&apos;r&apos;), 12284, 14539, 193, 0.015711494627157277),", 
        " ((u&apos;python&apos;, u&apos;r&apos;), 116468, 14539, 213, 0.014650251048902951),", 
        " ((u&apos;date&apos;, u&apos;r&apos;), 8217, 14539, 115, 0.013995375441158574),", 
        " ((u&apos;emacs&apos;, u&apos;r&apos;), 5551, 14539, 67, 0.012069897315798956),", 
        " ((u&apos;optimization&apos;, u&apos;r&apos;), 7517, 14539, 79, 0.010509511773313822),", 
        " ((u&apos;java&apos;, u&apos;r&apos;), 256229, 14539, 121, 0.0083224430841185772)]"
       ]
      }
     ], 
     "prompt_number": 61
    }, 
    {
     "cell_type": "code", 
     "collapsed": false, 
     "input": [
      "filter_edgelist(edges256list_t0, \"emacs\")[:5]"
     ], 
     "language": "python", 
     "outputs": [
      {
       "output_type": "pyout", 
       "prompt_number": 64, 
       "text": [
        "[((u&apos;emacs&apos;, u&apos;python&apos;), 5551, 116468, 223, 0.040172941812286075),", 
        " ((u&apos;emacs&apos;, u&apos;osx&apos;), 5551, 20166, 129, 0.023239056025941271),", 
        " ((u&apos;emacs&apos;, u&apos;vim&apos;), 5551, 7131, 120, 0.021617726535759323),", 
        " ((u&apos;c++&apos;, u&apos;emacs&apos;), 129928, 5551, 97, 0.017474328949738785),", 
        " ((u&apos;emacs&apos;, u&apos;windows&apos;), 5551, 32618, 94, 0.016933885786344804)]"
       ]
      }
     ], 
     "prompt_number": 64
    }, 
    {
     "cell_type": "code", 
     "collapsed": false, 
     "input": [
      "filter_edgelist(edges256list_t0, \"vim\")[:5]"
     ], 
     "language": "python", 
     "outputs": [
      {
       "output_type": "pyout", 
       "prompt_number": 65, 
       "text": [
        "[((u&apos;regex&apos;, u&apos;vim&apos;), 36352, 7131, 291, 0.040807740849810689),", 
        " ((u&apos;python&apos;, u&apos;vim&apos;), 116468, 7131, 237, 0.033235170382835508),", 
        " ((u&apos;linux&apos;, u&apos;vim&apos;), 33196, 7131, 181, 0.025382134343009396),", 
        " ((u&apos;ruby&apos;, u&apos;vim&apos;), 49153, 7131, 159, 0.022297013041649136),", 
        " ((u&apos;emacs&apos;, u&apos;vim&apos;), 5551, 7131, 120, 0.021617726535759323)]"
       ]
      }
     ], 
     "prompt_number": 65
    }, 
    {
     "cell_type": "code", 
     "collapsed": false, 
     "input": [
      "filter_edgelist(edges256list_t0, \"delphi\")[:5]"
     ], 
     "language": "python", 
     "outputs": [
      {
       "output_type": "pyout", 
       "prompt_number": 66, 
       "text": [
        "[((u&apos;delphi&apos;, u&apos;dll&apos;), 13919, 6089, 257, 0.042207258991624239),", 
        " ((u&apos;delphi&apos;, u&apos;winapi&apos;), 13919, 10486, 371, 0.035380507343124167),", 
        " ((u&apos;delphi&apos;, u&apos;windows&apos;), 13919, 32618, 378, 0.027157123356562972),", 
        " ((u&apos;delphi&apos;, u&apos;multithreading&apos;), 13919, 24729, 338, 0.024283353689201811),", 
        " ((u&apos;delphi&apos;, u&apos;windows-7&apos;), 13919, 5169, 118, 0.022828400077384407)]"
       ]
      }
     ], 
     "prompt_number": 66
    }, 
    {
     "cell_type": "code", 
     "collapsed": false, 
     "input": [
      "edges256list_t03 = elapsed(process_edges, pair256list, tags265dict, prob_of_other_tag_sym,", 
      "                       threshold=0.03)"
     ], 
     "language": "python", 
     "outputs": [
      {
       "output_type": "stream", 
       "stream": "stdout", 
       "text": [
        "Time elapsed [s]: 0.110481977463"
       ]
      }
     ], 
     "prompt_number": 67
    }, 
    {
     "cell_type": "code", 
     "collapsed": false, 
     "input": [
      "len(edges256list_t03)"
     ], 
     "language": "python", 
     "outputs": [
      {
       "output_type": "pyout", 
       "prompt_number": 68, 
       "text": [
        "1740"
       ]
      }
     ], 
     "prompt_number": 68
    }, 
    {
     "cell_type": "code", 
     "collapsed": true, 
     "input": [
      "filter_edgelist(edges256list_t03, \"c++\")"
     ], 
     "language": "python", 
     "outputs": [
      {
       "output_type": "pyout", 
       "prompt_number": 71, 
       "text": [
        "[((u&apos;boost&apos;, u&apos;c++&apos;), 6290, 129928, 4925, 0.78298887122416538),", 
        " ((u&apos;c++&apos;, u&apos;templates&apos;), 129928, 10145, 4914, 0.48437654016757026),", 
        " ((u&apos;c++&apos;, u&apos;pointers&apos;), 129928, 6946, 3077, 0.44298877051540453),", 
        " ((u&apos;c++&apos;, u&apos;visual-c++&apos;), 129928, 8662, 3729, 0.43050103902101133),", 
        " ((u&apos;c++&apos;, u&apos;qt&apos;), 129928, 13668, 5493, 0.40188762071992978),", 
        " ((u&apos;c++&apos;, u&apos;winapi&apos;), 129928, 10486, 3900, 0.37192447072286861),", 
        " ((u&apos;c++&apos;, u&apos;opencv&apos;), 129928, 5636, 1665, 0.2954222853087296),", 
        " ((u&apos;c++&apos;, u&apos;gcc&apos;), 129928, 6796, 2002, 0.29458505002942909),", 
        " ((u&apos;c++&apos;, u&apos;dll&apos;), 129928, 6089, 1580, 0.25948431597963539),", 
        " ((u&apos;c++&apos;, u&apos;opengl&apos;), 129928, 10147, 2301, 0.22676653197989555),", 
        " ((u&apos;c++&apos;, u&apos;compiler&apos;), 129928, 5074, 1133, 0.22329523058730785),", 
        " ((u&apos;c++&apos;, u&apos;inheritance&apos;), 129928, 7248, 1569, 0.21647350993377484),", 
        " ((u&apos;c&apos;, u&apos;c++&apos;), 62252, 129928, 12856, 0.20651545331876889),", 
        " ((u&apos;c++&apos;, u&apos;class&apos;), 129928, 12443, 2106, 0.16925178815398215),", 
        " ((u&apos;c++&apos;, u&apos;homework&apos;), 129928, 8655, 1338, 0.15459272097053725),", 
        " ((u&apos;c++&apos;, u&apos;windows&apos;), 129928, 32618, 4916, 0.15071432951131278),", 
        " ((u&apos;c++&apos;, u&apos;memory&apos;), 129928, 7815, 1159, 0.14830454254638514),", 
        " ((u&apos;c++&apos;, u&apos;data-structures&apos;), 129928, 5077, 744, 0.1465432341934213),", 
        " ((u&apos;c++&apos;, u&apos;memory-management&apos;), 129928, 6504, 926, 0.14237392373923738),", 
        " ((u&apos;c++&apos;, u&apos;visual-studio-2008&apos;), 129928, 11013, 1364, 0.1238536275310996),", 
        " ((u&apos;c++&apos;, u&apos;function&apos;), 129928, 11763, 1306, 0.11102609878432372),", 
        " ((u&apos;c++&apos;, u&apos;optimization&apos;), 129928, 7517, 814, 0.10828788080351204),", 
        " ((u&apos;c++&apos;, u&apos;visual-studio&apos;), 129928, 18959, 2022, 0.10665119468326388),", 
        " ((u&apos;c++&apos;, u&apos;string&apos;), 129928, 23938, 2454, 0.10251482997744173),", 
        " ((u&apos;algorithm&apos;, u&apos;c++&apos;), 18286, 129928, 1847, 0.10100623427758941),", 
        " ((u&apos;c++&apos;, u&apos;multithreading&apos;), 129928, 24729, 2453, 0.099195276800517609),", 
        " ((u&apos;c++&apos;, u&apos;sockets&apos;), 129928, 11325, 1116, 0.09854304635761589),", 
        " ((u&apos;c++&apos;, u&apos;linux&apos;), 129928, 33196, 3264, 0.098325099409567421),", 
        " ((u&apos;c++&apos;, u&apos;gui&apos;), 129928, 8642, 835, 0.096621152510992819),", 
        " ((u&apos;c++&apos;, u&apos;visual-studio-2010&apos;), 129928, 23239, 2125, 0.091441111923921001),", 
        " ((u&apos;c++&apos;, u&apos;oop&apos;), 129928, 12956, 1172, 0.09046001852423588),", 
        " ((u&apos;c++&apos;, u&apos;debugging&apos;), 129928, 12694, 1123, 0.088466992279817233),", 
        " ((u&apos;c++&apos;, u&apos;exception&apos;), 129928, 9048, 778, 0.085985853227232539),", 
        " ((u&apos;c++&apos;, u&apos;image-processing&apos;), 129928, 5774, 445, 0.077069622445445102),", 
        " ((u&apos;c++&apos;, u&apos;math&apos;), 129928, 7916, 602, 0.07604850934815563),", 
        " ((u&apos;arrays&apos;, u&apos;c++&apos;), 30457, 129928, 2289, 0.07515513675017238),", 
        " ((u&apos;c++&apos;, u&apos;graphics&apos;), 129928, 5543, 414, 0.074688796680497924),", 
        " ((u&apos;c++&apos;, u&apos;design&apos;), 129928, 9160, 650, 0.070960698689956331),", 
        " ((u&apos;assembly&apos;, u&apos;c++&apos;), 6708, 129928, 471, 0.070214669051878356),", 
        " ((u&apos;c++&apos;, u&apos;design-patterns&apos;), 129928, 9347, 649, 0.069434043008451907),", 
        " ((u&apos;c++&apos;, u&apos;networking&apos;), 129928, 7803, 522, 0.066897347174163777),", 
        " ((u&apos;c++&apos;, u&apos;object&apos;), 129928, 8034, 536, 0.066716455065969626),", 
        " ((u&apos;c++&apos;, u&apos;windows-7&apos;), 129928, 5169, 328, 0.063455213774424452),", 
        " ((u&apos;c++&apos;, u&apos;sorting&apos;), 129928, 7940, 468, 0.05894206549118388),", 
        " ((u&apos;c++&apos;, u&apos;ubuntu&apos;), 129928, 6464, 377, 0.058323019801980201),", 
        " ((u&apos;c++&apos;, u&apos;file&apos;), 129928, 14708, 829, 0.056363883600761493),", 
        " ((u&apos;c++&apos;, u&apos;unix&apos;), 129928, 8827, 468, 0.053019145802650956),", 
        " ((u&apos;c++&apos;, u&apos;performance&apos;), 129928, 20879, 1061, 0.050816609990899944),", 
        " ((u&apos;c++&apos;, u&apos;parsing&apos;), 129928, 11414, 535, 0.046872262134221132),", 
        " ((u&apos;audio&apos;, u&apos;c++&apos;), 7221, 129928, 338, 0.046807921340534554),", 
        " ((u&apos;c++&apos;, u&apos;osx&apos;), 129928, 20166, 899, 0.044579986115243476),", 
        " ((u&apos;c++&apos;, u&apos;serialization&apos;), 129928, 6920, 307, 0.044364161849710981),", 
        " ((u&apos;c++&apos;, u&apos;loops&apos;), 129928, 6901, 290, 0.042022895232574992),", 
        " ((u&apos;c++&apos;, u&apos;variables&apos;), 129928, 8853, 369, 0.041680786174178246),", 
        " ((u&apos;c++&apos;, u&apos;dynamic&apos;), 129928, 6906, 276, 0.03996524761077324),", 
        " ((u&apos;c++&apos;, u&apos;list&apos;), 129928, 12284, 449, 0.036551611852816669),", 
        " ((u&apos;c++&apos;, u&apos;netbeans&apos;), 129928, 6024, 208, 0.034528552456839307),", 
        " ((u&apos;c++&apos;, u&apos;unit-testing&apos;), 129928, 12604, 419, 0.033243414788955886),", 
        " ((u&apos;c++&apos;, u&apos;logging&apos;), 129928, 7071, 223, 0.031537264884740492),", 
        " ((u&apos;c++&apos;, u&apos;encryption&apos;), 129928, 5899, 182, 0.030852686896084083)]"
       ]
      }
     ], 
     "prompt_number": 71
    }, 
    {
     "cell_type": "code", 
     "collapsed": false, 
     "input": [
      "edges256list_t10 = elapsed(process_edges, pair256list, tags265dict, prob_of_other_tag_sym,", 
      "                       threshold=0.1)"
     ], 
     "language": "python", 
     "outputs": [
      {
       "output_type": "stream", 
       "stream": "stdout", 
       "text": [
        "Time elapsed [s]: 0.104614019394"
       ]
      }
     ], 
     "prompt_number": 72
    }, 
    {
     "cell_type": "code", 
     "collapsed": false, 
     "input": [
      "len(edges256list_t10)"
     ], 
     "language": "python", 
     "outputs": [
      {
       "output_type": "pyout", 
       "prompt_number": 73, 
       "text": [
        "556"
       ]
      }
     ], 
     "prompt_number": 73
    }, 
    {
     "cell_type": "code", 
     "collapsed": false, 
     "input": [
      "export_graph(edges256list_t10, path = \"output256_sym_t10.gexf\", node_dict = tags265dict)"
     ], 
     "language": "python", 
     "outputs": [
      {
       "output_type": "stream", 
       "stream": "stdout", 
       "text": [
        "Saved!", 
        "Nodes: 256.000000,\t Edges: 556.000000"
       ]
      }
     ], 
     "prompt_number": 75
    }, 
    {
     "cell_type": "code", 
     "collapsed": false, 
     "input": [
      "edges256list_coc4 = elapsed(process_edges, pair256list, tags265dict, cooccurrence,", 
      "                       threshold=4., trial_size = 3370528.)"
     ], 
     "language": "python", 
     "outputs": [
      {
       "output_type": "stream", 
       "stream": "stdout", 
       "text": [
        "Time elapsed [s]: 0.108472108841"
       ]
      }
     ], 
     "prompt_number": 100
    }, 
    {
     "cell_type": "code", 
     "collapsed": false, 
     "input": [
      "len(edges256list_coc4)"
     ], 
     "language": "python", 
     "outputs": [
      {
       "output_type": "pyout", 
       "prompt_number": 101, 
       "text": [
        "1215"
       ]
      }
     ], 
     "prompt_number": 101
    }, 
    {
     "cell_type": "code", 
     "collapsed": false, 
     "input": [
      "edges256list_coc4[:100]"
     ], 
     "language": "python", 
     "outputs": [
      {
       "output_type": "pyout", 
       "prompt_number": 105, 
       "text": [
        "[((u&apos;.htaccess&apos;, u&apos;mod-rewrite&apos;), 11508, 6782, 3392, 146.48600811795356),", 
        " ((u&apos;excel&apos;, u&apos;vba&apos;), 13912, 8062, 3108, 93.399937716737838),", 
        " ((u&apos;spring&apos;, u&apos;spring-mvc&apos;), 17917, 5796, 2696, 87.503244563835551),", 
        " ((u&apos;jquery-mobile&apos;, u&apos;phonegap&apos;), 6147, 6129, 917, 82.037882187170297),", 
        " ((u&apos;hibernate&apos;, u&apos;jpa&apos;), 16635, 6897, 2756, 80.964403641385786),", 
        " ((u&apos;actionscript&apos;, u&apos;flash&apos;), 5395, 18863, 2430, 80.482600234842948),", 
        " ((u&apos;apache&apos;, u&apos;mod-rewrite&apos;), 16714, 6782, 2657, 79.004405688963956),", 
        " ((u&apos;image-processing&apos;, u&apos;opencv&apos;), 5774, 5636, 751, 77.78397126887053),", 
        " ((u&apos;canvas&apos;, u&apos;html5&apos;), 5432, 18225, 2222, 75.651003917242946),", 
        " ((u&apos;jsp&apos;, u&apos;servlets&apos;), 10936, 6742, 1638, 74.879784694835706),", 
        " ((u&apos;bash&apos;, u&apos;shell&apos;), 13241, 9744, 2834, 74.035450668291716),", 
        " ((u&apos;entity-framework&apos;, u&apos;entity-framework-4&apos;),", 
        "  14985,", 
        "  5210,", 
        "  1671,", 
        "  72.140627998439896),", 
        " ((u&apos;.htaccess&apos;, u&apos;redirect&apos;), 11508, 7138, 1722, 70.656917945078561),", 
        " ((u&apos;facebook&apos;, u&apos;facebook-graph-api&apos;), 29208, 9126, 5551, 70.191881239265513),", 
        " ((u&apos;svn&apos;, u&apos;version-control&apos;), 11924, 5330, 1322, 70.110040512992541),", 
        " ((u&apos;ms-access&apos;, u&apos;vba&apos;), 6265, 8062, 1042, 69.534732637700287),", 
        " ((u&apos;actionscript-3&apos;, u&apos;flash&apos;), 19300, 18863, 7415, 68.650075771330719),", 
        " ((u&apos;actionscript&apos;, u&apos;flex&apos;), 5395, 17302, 1787, 64.525998708651599),", 
        " ((u&apos;iis&apos;, u&apos;iis7&apos;), 8323, 5108, 795, 63.028110063996976),", 
        " ((u&apos;shell&apos;, u&apos;unix&apos;), 9744, 8827, 1588, 62.229747027471873),", 
        " ((u&apos;xpath&apos;, u&apos;xslt&apos;), 5348, 8296, 815, 61.914932825760978),", 
        " ((u&apos;silverlight&apos;, u&apos;silverlight-4.0&apos;), 20112, 4955, 1781, 60.236945235841752),", 
        " ((u&apos;actionscript&apos;, u&apos;actionscript-3&apos;), 5395, 19300, 1822, 58.979020259595579),", 
        " ((u&apos;.htaccess&apos;, u&apos;apache&apos;), 11508, 16714, 2774, 48.609834784540375),", 
        " ((u&apos;actionscript-3&apos;, u&apos;flex&apos;), 19300, 17302, 4801, 48.459176386808437),", 
        " ((u&apos;git&apos;, u&apos;version-control&apos;), 17447, 5330, 1335, 48.387282803744085),", 
        " ((u&apos;soap&apos;, u&apos;web-services&apos;), 6203, 19881, 1763, 48.18482046201661),", 
        " ((u&apos;cookies&apos;, u&apos;session&apos;), 6178, 9460, 811, 46.771333593868171),", 
        " ((u&apos;firefox&apos;, u&apos;google-chrome&apos;), 9294, 8746, 1127, 46.731499231029701),", 
        " ((u&apos;wpf&apos;, u&apos;xaml&apos;), 47279, 9164, 5856, 45.556006332534466),", 
        " ((u&apos;date&apos;, u&apos;datetime&apos;), 8217, 7943, 876, 45.238083300434177),", 
        " ((u&apos;linq&apos;, u&apos;linq-to-sql&apos;), 20502, 8508, 2331, 45.041879295136368),", 
        " ((u&apos;mvvm&apos;, u&apos;wpf&apos;), 5579, 47279, 3471, 44.353501331679539),", 
        " ((u&apos;sql-server-2005&apos;, u&apos;tsql&apos;), 11463, 11512, 1733, 44.263670944926773),", 
        " ((u&apos;css3&apos;, u&apos;html5&apos;), 7555, 18225, 1774, 43.42597211305479),", 
        " ((u&apos;servlets&apos;, u&apos;tomcat&apos;), 6742, 8119, 686, 42.240666817956232),", 
        " ((u&apos;memory&apos;, u&apos;memory-management&apos;), 7815, 6504, 632, 41.908826735100362),", 
        " ((u&apos;sql-server-2008&apos;, u&apos;tsql&apos;), 15891, 11512, 2245, 41.363023435934231),", 
        " ((u&apos;binding&apos;, u&apos;mvvm&apos;), 5770, 5579, 394, 41.253612659257307),", 
        " ((u&apos;binding&apos;, u&apos;xaml&apos;), 5770, 9164, 626, 39.903535725281735),", 
        " ((u&apos;design&apos;, u&apos;design-patterns&apos;), 9160, 9347, 1010, 39.76047799004234),", 
        " ((u&apos;architecture&apos;, u&apos;design&apos;), 5512, 9160, 587, 39.186038242880954),", 
        " ((u&apos;algorithm&apos;, u&apos;data-structures&apos;), 18286, 5077, 1061, 38.520103411940426),", 
        " ((u&apos;data-binding&apos;, u&apos;mvvm&apos;), 6777, 5579, 431, 38.422123393595101),", 
        " ((u&apos;binding&apos;, u&apos;wpf&apos;), 5770, 47279, 3004, 37.115368114415617),", 
        " ((u&apos;graphics&apos;, u&apos;opengl&apos;), 5543, 10147, 611, 36.614795307109254),", 
        " ((u&apos;xml&apos;, u&apos;xslt&apos;), 43077, 8296, 3848, 36.292660746161324),", 
        " ((u&apos;sql-server&apos;, u&apos;tsql&apos;), 36801, 11512, 4494, 35.753668279438955),", 
        " ((u&apos;gui&apos;, u&apos;swing&apos;), 8642, 11276, 1028, 35.556722701665947),", 
        " ((u&apos;cocoa&apos;, u&apos;osx&apos;), 20307, 20166, 4261, 35.070660228138166),", 
        " ((u&apos;compiler&apos;, u&apos;gcc&apos;), 5074, 6796, 358, 34.992674166885713),", 
        " ((u&apos;mod-rewrite&apos;, u&apos;redirect&apos;), 6782, 7138, 501, 34.881996655395973),", 
        " ((u&apos;silverlight&apos;, u&apos;windows-phone-7&apos;),", 
        "  20112,", 
        "  12146,", 
        "  2513,", 
        "  34.673836002987258),", 
        " ((u&apos;jquery-plugins&apos;, u&apos;jquery-ui&apos;), 6606, 14033, 932, 33.886347260821715),", 
        " ((u&apos;testing&apos;, u&apos;unit-testing&apos;), 8513, 12604, 1076, 33.800193204240472),", 
        " ((u&apos;data-binding&apos;, u&apos;xaml&apos;), 6777, 9164, 611, 33.160157404557367),", 
        " ((u&apos;database&apos;, u&apos;database-design&apos;), 37947, 7578, 2801, 32.830613613743878),", 
        " ((u&apos;mongodb&apos;, u&apos;node.js&apos;), 8968, 10622, 909, 32.163249956203195),", 
        " ((u&apos;architecture&apos;, u&apos;design-patterns&apos;), 5512, 9347, 491, 32.121659922705966),", 
        " ((u&apos;design-patterns&apos;, u&apos;oop&apos;), 9347, 12956, 1127, 31.367410920446957),", 
        " ((u&apos;silverlight&apos;, u&apos;xaml&apos;), 20112, 9164, 1695, 30.997545130941976),", 
        " ((u&apos;bash&apos;, u&apos;unix&apos;), 13241, 8827, 1069, 30.827743184199271),", 
        " ((u&apos;networking&apos;, u&apos;sockets&apos;), 7803, 11325, 806, 30.742073991465897),", 
        " ((u&apos;http&apos;, u&apos;post&apos;), 11586, 7251, 764, 30.652074228325393),", 
        " ((u&apos;image-processing&apos;, u&apos;matlab&apos;), 5774, 10242, 535, 30.492299040734149),", 
        " ((u&apos;mvvm&apos;, u&apos;silverlight-4.0&apos;), 5579, 4955, 250, 30.481611796000898),", 
        " ((u&apos;activerecord&apos;, u&apos;ruby-on-rails&apos;), 7385, 79411, 5262, 30.242495061835896),", 
        " ((u&apos;activerecord&apos;, u&apos;ruby-on-rails-3&apos;),", 
        "  7385,", 
        "  29555,", 
        "  1955,", 
        "  30.190008667269073),", 
        " ((u&apos;xml&apos;, u&apos;xpath&apos;), 43077, 5348, 2062, 30.168224512613296),", 
        " ((u&apos;hibernate&apos;, u&apos;spring&apos;), 16635, 17917, 2663, 30.11487097797027),", 
        " ((u&apos;generics&apos;, u&apos;reflection&apos;), 8533, 6175, 466, 29.808844974808448),", 
        " ((u&apos;sql-server&apos;, u&apos;sql-server-2005&apos;), 36801, 11463, 3682, 29.418722594204091),", 
        " ((u&apos;data-binding&apos;, u&apos;wpf&apos;), 6777, 47279, 2783, 29.275571226862322),", 
        " ((u&apos;java-ee&apos;, u&apos;servlets&apos;), 9009, 6742, 520, 28.855987942312474),", 
        " ((u&apos;encryption&apos;, u&apos;security&apos;), 5899, 14868, 742, 28.514837172759659),", 
        " ((u&apos;api&apos;, u&apos;google&apos;), 14809, 10157, 1257, 28.167093240885471),", 
        " ((u&apos;flash&apos;, u&apos;flex&apos;), 18863, 17302, 2692, 27.801352380459452),", 
        " ((u&apos;sql-server&apos;, u&apos;sql-server-2008&apos;), 36801, 15891, 4741, 27.324803466735528),", 
        " ((u&apos;animation&apos;, u&apos;uiview&apos;), 7255, 4978, 292, 27.251378871998892),", 
        " ((u&apos;image&apos;, u&apos;image-processing&apos;), 21314, 5774, 982, 26.894760803372236),", 
        " ((u&apos;mvvm&apos;, u&apos;silverlight&apos;), 5579, 20112, 885, 26.584566827272919),", 
        " ((u&apos;binding&apos;, u&apos;data-binding&apos;), 5770, 6777, 304, 26.203434851645476),", 
        " ((u&apos;java-ee&apos;, u&apos;jsf&apos;), 9009, 9305, 644, 25.893505050087533),", 
        " ((u&apos;inheritance&apos;, u&apos;oop&apos;), 7248, 12956, 717, 25.735225081733592),", 
        " ((u&apos;visual-studio&apos;, u&apos;visual-studio-2008&apos;),", 
        "  18959,", 
        "  11013,", 
        "  1589,", 
        "  25.650791508802246),", 
        " ((u&apos;algorithm&apos;, u&apos;math&apos;), 18286, 7916, 1091, 25.40377098548209),", 
        " ((u&apos;cocoa-touch&apos;, u&apos;iphone-sdk-4.0&apos;), 14177, 7231, 770, 25.316634028324376),", 
        " ((u&apos;stored-procedures&apos;, u&apos;tsql&apos;), 6188, 11512, 532, 25.171464598027161),", 
        " ((u&apos;java-ee&apos;, u&apos;jpa&apos;), 9009, 6897, 461, 25.007026353698819),", 
        " ((u&apos;winapi&apos;, u&apos;windows&apos;), 10486, 32618, 2507, 24.705013269680563),", 
        " ((u&apos;gui&apos;, u&apos;user-interface&apos;), 8642, 5688, 360, 24.684628206668052),", 
        " ((u&apos;curl&apos;, u&apos;post&apos;), 5445, 7251, 288, 24.586382727489283),", 
        " ((u&apos;class&apos;, u&apos;object&apos;), 12443, 8034, 729, 24.579245031728551),", 
        " ((u&apos;google&apos;, u&apos;google-maps&apos;), 10157, 9897, 731, 24.510168310441099),", 
        " ((u&apos;jquery-ajax&apos;, u&apos;jquery-plugins&apos;), 8588, 6606, 411, 24.417947523676446),", 
        " ((u&apos;asp.net-mvc&apos;, u&apos;asp.net-mvc-2&apos;), 33944, 7723, 1897, 24.390248019992498),", 
        " ((u&apos;firefox&apos;, u&apos;internet-explorer&apos;), 9294, 12558, 840, 24.257948991437637),", 
        " ((u&apos;jquery-mobile&apos;, u&apos;mobile&apos;), 6147, 6987, 307, 24.092527224500618),", 
        " ((u&apos;cocoa-touch&apos;, u&apos;uiview&apos;), 14177, 4978, 500, 23.879691507413604),", 
        " ((u&apos;xcode&apos;, u&apos;xcode4&apos;), 37462, 4997, 1325, 23.856872449239656)]"
       ]
      }
     ], 
     "prompt_number": 105
    }, 
    {
     "cell_type": "code", 
     "collapsed": false, 
     "input": [
      "export_graph(edges256list_coc4, path = \"output256_coc_t4.gexf\", node_dict = tags265dict)"
     ], 
     "language": "python", 
     "outputs": [
      {
       "output_type": "stream", 
       "stream": "stdout", 
       "text": [
        "Saved!", 
        "Nodes: 256,\t Edges: 1215"
       ]
      }
     ], 
     "prompt_number": 104
    }, 
    {
     "cell_type": "code", 
     "collapsed": false, 
     "input": [
      "edges256list_coc_values = map(lambda x: x[-1],", 
      "                              elapsed(process_edges, pair256list, tags265dict, cooccurrence,", 
      "                       threshold=0., trial_size = 3370528.))"
     ], 
     "language": "python", 
     "outputs": [
      {
       "output_type": "stream", 
       "stream": "stdout", 
       "text": [
        "Time elapsed [s]: 0.148264884949"
       ]
      }
     ], 
     "prompt_number": 108
    }, 
    {
     "cell_type": "code", 
     "collapsed": true, 
     "input": [
      "ranges = [x for x in np.arange(0,100,0.5)]"
     ], 
     "language": "python", 
     "outputs": [], 
     "prompt_number": 114
    }, 
    {
     "cell_type": "code", 
     "collapsed": true, 
     "input": [
      "results = [len(filter(lambda y: y> x, edges256list_coc_values)) for x in ranges]"
     ], 
     "language": "python", 
     "outputs": [], 
     "prompt_number": 115
    }, 
    {
     "cell_type": "code", 
     "collapsed": false, 
     "input": [
      "plt.yscale('log')", 
      "plt.plot(ranges, results, 'ro')"
     ], 
     "language": "python", 
     "outputs": [
      {
       "output_type": "pyout", 
       "prompt_number": 116, 
       "text": [
        "[&lt;matplotlib.lines.Line2D at 0x3d06930&gt;]"
       ]
      }, 
      {
       "output_type": "display_data", 
       "png": "[encoded data removed]"
      }
     ], 
     "prompt_number": 116
    }, 
    {
     "cell_type": "code", 
     "collapsed": true, 
     "input": [
      "json.dump(tags265dict, open(\"tags265dict.json\",\"w\"))"
     ], 
     "language": "python", 
     "outputs": [], 
     "prompt_number": 123
    }, 
    {
     "cell_type": "code", 
     "collapsed": false, 
     "input": [
      "results[:2]"
     ], 
     "language": "python", 
     "outputs": [
      {
       "ename": "NameError", 
       "evalue": "name 'results' is not defined", 
       "output_type": "pyerr", 
       "traceback": [
        "<span class=\"ansired\">---------------------------------------------------------------------------</span>\n<span class=\"ansired\">NameError</span>                                 Traceback (most recent call last)", 
        "<span class=\"ansigreen\">/Users/piotrmigdal/Dropbox/Projects/BigDiveMine/kaggle_so_vis/&lt;ipython-input-1-aea073da7800&gt;</span> in <span class=\"ansicyan\">&lt;module&gt;</span><span class=\"ansiblue\">()</span>\n<span class=\"ansigreen\">----&gt; 1</span><span class=\"ansired\"> </span>results<span class=\"ansiblue\">[</span><span class=\"ansiblue\">:</span><span class=\"ansicyan\">2</span><span class=\"ansiblue\">]</span><span class=\"ansiblue\"></span>\n", 
        "<span class=\"ansired\">NameError</span>: name &apos;results&apos; is not defined"
       ]
      }
     ], 
     "prompt_number": 1
    }, 
    {
     "cell_type": "code", 
     "collapsed": false, 
     "input": [
      "edges1024list_coc4 = elapsed(process_edges, pair1024list, tags1024dict, cooccurrence,", 
      "                       threshold=4., trial_size = 3370528.)", 
      "export_graph(edges1024list_coc4, path = \"output1024_coc_t4.gexf\", node_dict = tags1024dict)"
     ], 
     "language": "python", 
     "outputs": [
      {
       "output_type": "stream", 
       "stream": "stdout", 
       "text": [
        "Time elapsed [s]: 0.680168867111", 
        "Saved!", 
        "Nodes: 1024,\t Edges: 21112"
       ]
      }, 
      {
       "output_type": "stream", 
       "stream": "stdout", 
       "text": []
      }
     ], 
     "prompt_number": 11
    }, 
    {
     "cell_type": "code", 
     "collapsed": false, 
     "input": [
      "edges2048list_coc4 = elapsed(process_edges, pair2048list, tags2048dict, cooccurrence,", 
      "                       threshold=4., trial_size = 3370528.)", 
      "export_graph(edges2048list_coc4, path = \"output2048_coc_t4.gexf\", node_dict = tags2048dict)"
     ], 
     "language": "python", 
     "outputs": [
      {
       "output_type": "stream", 
       "stream": "stdout", 
       "text": [
        "Time elapsed [s]: 2.96429109573", 
        "Saved!", 
        "Nodes: 2048,\t Edges: 100365"
       ]
      }, 
      {
       "output_type": "stream", 
       "stream": "stdout", 
       "text": []
      }
     ], 
     "prompt_number": 12
    }, 
    {
     "cell_type": "code", 
     "collapsed": false, 
     "input": [
      "edges1024list_coc6 = elapsed(process_edges, pair1024list, tags1024dict, cooccurrence,", 
      "                       threshold=6., trial_size = 3370528.)", 
      "export_graph(edges1024list_coc6, path = \"output1024_coc_t6.gexf\", node_dict = tags1024dict)"
     ], 
     "language": "python", 
     "outputs": [
      {
       "output_type": "stream", 
       "stream": "stdout", 
       "text": [
        "Time elapsed [s]: 0.596930027008", 
        "Saved!", 
        "Nodes: 1024,\t Edges: 13121"
       ]
      }, 
      {
       "output_type": "stream", 
       "stream": "stdout", 
       "text": []
      }
     ], 
     "prompt_number": 13
    }, 
    {
     "cell_type": "code", 
     "collapsed": false, 
     "input": [
      "edges1024list_coc8 = elapsed(process_edges, pair1024list, tags1024dict, cooccurrence,", 
      "                       threshold=8., trial_size = 3370528.)", 
      "export_graph(edges1024list_coc8, path = \"output1024_coc_t8.gexf\", node_dict = tags1024dict)"
     ], 
     "language": "python", 
     "outputs": [
      {
       "output_type": "stream", 
       "stream": "stdout", 
       "text": [
        "Time elapsed [s]: 0.613136053085", 
        "Saved!", 
        "Nodes: 1024,\t Edges: 9189"
       ]
      }, 
      {
       "output_type": "stream", 
       "stream": "stdout", 
       "text": []
      }
     ], 
     "prompt_number": 14
    }, 
    {
     "cell_type": "code", 
     "collapsed": false, 
     "input": [
      "edges2048list_coc8 = elapsed(process_edges, pair2048list, tags2048dict, cooccurrence,", 
      "                       threshold=8., trial_size = 3370528.)", 
      "export_graph(edges2048list_coc8, path = \"output2048_coc_t8.gexf\", node_dict = tags2048dict)"
     ], 
     "language": "python", 
     "outputs": [
      {
       "output_type": "stream", 
       "stream": "stdout", 
       "text": [
        "Time elapsed [s]: 1.38315200806", 
        "Saved!", 
        "Nodes: 2048,\t Edges: 44286"
       ]
      }, 
      {
       "output_type": "stream", 
       "stream": "stdout", 
       "text": []
      }
     ], 
     "prompt_number": 15
    }, 
    {
     "cell_type": "code", 
     "collapsed": true, 
     "input": [], 
     "language": "python", 
     "outputs": [], 
     "prompt_number": "&nbsp;"
    }
   ]
  }
 ]
}